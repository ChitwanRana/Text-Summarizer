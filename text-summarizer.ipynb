{
 "cells": [
  {
   "cell_type": "code",
   "execution_count": 31,
   "metadata": {},
   "outputs": [],
   "source": [
    "import spacy\n",
    "from heapq import nlargest"
   ]
  },
  {
   "cell_type": "code",
   "execution_count": 2,
   "metadata": {},
   "outputs": [],
   "source": [
    "from spacy.lang.en.stop_words import STOP_WORDS\n",
    "from string import punctuation"
   ]
  },
  {
   "cell_type": "code",
   "execution_count": 3,
   "metadata": {},
   "outputs": [],
   "source": [
    "text=\"\"\"Game of Thrones is an American fantasy drama television series created by David Benioff and D. B. Weiss for HBO. It is an adaptation of A Song of Ice and Fire, a series of fantasy novels by George R. R. Martin, the first of which is A Game of Thrones. The show premiered on HBO in the United States on April 17, 2011, and concluded on May 19, 2019, with 73 episodes broadcast over eight seasons.\n",
    "\n",
    "Set on the fictional continents of Westeros and Essos, Game of Thrones has a large ensemble cast and follows several story arcs throughout the course of the show. The first major arc concerns the Iron Throne of the Seven Kingdoms of Westeros through a web of political conflicts among the noble families either vying to claim the throne or fighting for independence from whoever sits on it.\n",
    "\n",
    " The second major arc focuses on the last descendant of the realm's deposed ruling dynasty, who has been exiled to Essos and is plotting to return and reclaim the throne. The third follows the Night's Watch, a military order defending the realm against threats from beyond the Seven Kingdoms' northern border.\"\"\""
   ]
  },
  {
   "cell_type": "code",
   "execution_count": 4,
   "metadata": {},
   "outputs": [
    {
     "name": "stdout",
     "output_type": "stream",
     "text": [
      "['per', 'becoming', 'used', 'along', 'still', '’m', 'only', \"'ve\", 'meanwhile', 'hereupon', '‘m', 'then', 'fifteen', 'regarding', 'namely', 'herself', 'over', 'onto', 'whole', 'rather', 'none', 'part', 'she', 'until', 'became', 'again', 'he', 'or', 'keep', 'enough', 'by', 'full', 'has', 'itself', 'seemed', 'is', 'it', 'say', 'yourself', 'via', 'was', 'that', 'me', 'with', 'last', '’s', 'side', 'since', 'about', 'mostly', 'thereupon', 'any', '’d', 'our', 'ours', 'amount', 'hers', 'after', 'mine', 'thereafter', 'whereafter', 'have', 'below', 'anyway', 'indeed', 'everything', 'noone', '‘d', 'two', 'be', 'am', 'either', 'being', 'least', 'no', 'never', 'your', 'while', 'even', 'n‘t', 'the', 'six', 'anywhere', 'but', \"'s\", 'doing', 'may', 'fifty', 'amongst', 'had', 'thru', 'give', 'many', 'put', 'further', 'several', 'an', 'beyond', 'both', 'name', 'around', 'serious', 'whoever', 'anything', 'seems', 'hereafter', 'well', 'cannot', '‘s', 'too', 'most', 'ourselves', 'next', 'own', 'back', 'afterwards', 'yourselves', 'formerly', 'are', 'unless', 'should', 'alone', 'what', 'down', 'see', 'ever', 'whose', 'against', 'therein', 'hereby', 'nor', 'somewhere', 'although', 'because', 'already', 'these', 'how', 'whereby', 'once', 'this', 'everywhere', 'therefore', 'make', 'my', 'were', 'among', 'however', 'such', 'up', 'we', 'than', 'ca', 'here', 'ten', '‘ve', 'all', 'else', 'where', 'a', 'bottom', 'show', 'moreover', 'eight', 'empty', 'him', 'nevertheless', 'her', \"'m\", 're', 'could', 'at', \"'ll\", 'front', 'except', 'using', 'quite', 'hundred', 'might', 'them', 'third', 'us', 'did', 'must', 'almost', 'for', 'few', 'also', 'why', 'within', 'done', 'whereupon', 'someone', 'behind', 'himself', 'wherein', 'so', 'thereby', 'one', 'in', 'when', 'toward', 'his', 'just', 'thus', 'i', 'every', 'others', 'more', 'neither', 'something', 'same', 'whence', \"'re\", 'without', 'perhaps', 'whether', 'nobody', 'sometime', 'elsewhere', 'very', 'due', 'yet', 'who', 'on', 'herein', 'seeming', 'much', 'before', 'between', 'otherwise', 'you', 'now', 'not', 'beside', 'though', 'latter', 'go', 'there', 'above', 'can', \"n't\", 'of', '’re', 'will', 'some', 'nine', 'various', 'does', \"'d\", 'seem', 'myself', 'get', 'latterly', 'eleven', 'former', 'those', 'other', 'everyone', 'sixty', '’ll', 'thence', 'through', 'as', 'whatever', 'they', '’ve', 'yours', 'under', '‘ll', 'whom', 'made', 'first', 'its', 'upon', 'three', 'twelve', 'during', 'somehow', 'off', 'if', 'become', 'twenty', 'wherever', 'becomes', 'nowhere', 'to', 'whither', 'sometimes', 'together', '‘re', 'been', 'anyone', 'across', 'into', 'often', 'from', 'please', 'top', 'always', 'would', 'less', 'besides', 'forty', 'four', 'throughout', 'five', 'whereas', 'move', 'each', 'n’t', 'do', 'themselves', 'another', 'towards', 'really', 'hence', 'beforehand', 'nothing', 'their', 'and', 'take', 'whenever', 'which', 'anyhow', 'call', 'out']\n"
     ]
    }
   ],
   "source": [
    "def summarizer(rawdocs): \n",
    "     stopwords=list( STOP_WORDS)\n",
    "     print(stopwords)"
   ]
  },
  {
   "cell_type": "code",
   "execution_count": 5,
   "metadata": {},
   "outputs": [],
   "source": [
    "#smallest Module of Spacy \n",
    "nlp=spacy.load('en_core_web_sm')"
   ]
  },
  {
   "cell_type": "code",
   "execution_count": 6,
   "metadata": {},
   "outputs": [],
   "source": [
    "doc=nlp(text)"
   ]
  },
  {
   "cell_type": "code",
   "execution_count": 9,
   "metadata": {},
   "outputs": [
    {
     "name": "stdout",
     "output_type": "stream",
     "text": [
      "['Game', 'of', 'Thrones', 'is', 'an', 'American', 'fantasy', 'drama', 'television', 'series', 'created', 'by', 'David', 'Benioff', 'and', 'D.', 'B.', 'Weiss', 'for', 'HBO', '.', 'It', 'is', 'an', 'adaptation', 'of', 'A', 'Song', 'of', 'Ice', 'and', 'Fire', ',', 'a', 'series', 'of', 'fantasy', 'novels', 'by', 'George', 'R.', 'R.', 'Martin', ',', 'the', 'first', 'of', 'which', 'is', 'A', 'Game', 'of', 'Thrones', '.', 'The', 'show', 'premiered', 'on', 'HBO', 'in', 'the', 'United', 'States', 'on', 'April', '17', ',', '2011', ',', 'and', 'concluded', 'on', 'May', '19', ',', '2019', ',', 'with', '73', 'episodes', 'broadcast', 'over', 'eight', 'seasons', '.', '\\n\\n', 'Set', 'on', 'the', 'fictional', 'continents', 'of', 'Westeros', 'and', 'Essos', ',', 'Game', 'of', 'Thrones', 'has', 'a', 'large', 'ensemble', 'cast', 'and', 'follows', 'several', 'story', 'arcs', 'throughout', 'the', 'course', 'of', 'the', 'show', '.', 'The', 'first', 'major', 'arc', 'concerns', 'the', 'Iron', 'Throne', 'of', 'the', 'Seven', 'Kingdoms', 'of', 'Westeros', 'through', 'a', 'web', 'of', 'political', 'conflicts', 'among', 'the', 'noble', 'families', 'either', 'vying', 'to', 'claim', 'the', 'throne', 'or', 'fighting', 'for', 'independence', 'from', 'whoever', 'sits', 'on', 'it', '.', '\\n\\n ', 'The', 'second', 'major', 'arc', 'focuses', 'on', 'the', 'last', 'descendant', 'of', 'the', 'realm', \"'s\", 'deposed', 'ruling', 'dynasty', ',', 'who', 'has', 'been', 'exiled', 'to', 'Essos', 'and', 'is', 'plotting', 'to', 'return', 'and', 'reclaim', 'the', 'throne', '.', 'The', 'third', 'follows', 'the', 'Night', \"'s\", 'Watch', ',', 'a', 'military', 'order', 'defending', 'the', 'realm', 'against', 'threats', 'from', 'beyond', 'the', 'Seven', 'Kingdoms', \"'\", 'northern', 'border', '.']\n"
     ]
    }
   ],
   "source": [
    "tokens=[token.text for token in doc]\n",
    "print(tokens)"
   ]
  },
  {
   "cell_type": "code",
   "execution_count": 10,
   "metadata": {},
   "outputs": [],
   "source": [
    "# it picks up each word in from doc and convert it into lower and check if it is in stopwords and punctuations.\n",
    "word_freq={}\n",
    "# each word will be added into dictionary and assign a valuw to each key \n",
    "for word in doc:\n",
    "     if word.text.lower() not in stopwords and word.text.lower() not in punctuation:\n",
    "          # if not then convert word into text and check if word is in word_freq's dictionary if not then assign that word 1 and if repeat again then increase its value .\n",
    "          if word.text not in word_freq.keys():\n",
    "               word_freq[word.text]=1\n",
    "          else:\n",
    "               word_freq[word.text]+=1"
   ]
  },
  {
   "cell_type": "code",
   "execution_count": 11,
   "metadata": {},
   "outputs": [
    {
     "name": "stdout",
     "output_type": "stream",
     "text": [
      "{'Game': 3, 'Thrones': 3, 'American': 1, 'fantasy': 2, 'drama': 1, 'television': 1, 'series': 2, 'created': 1, 'David': 1, 'Benioff': 1, 'D.': 1, 'B.': 1, 'Weiss': 1, 'HBO': 2, 'adaptation': 1, 'Song': 1, 'Ice': 1, 'Fire': 1, 'novels': 1, 'George': 1, 'R.': 2, 'Martin': 1, 'premiered': 1, 'United': 1, 'States': 1, 'April': 1, '17': 1, '2011': 1, 'concluded': 1, '19': 1, '2019': 1, '73': 1, 'episodes': 1, 'broadcast': 1, 'seasons': 1, '\\n\\n': 1, 'Set': 1, 'fictional': 1, 'continents': 1, 'Westeros': 2, 'Essos': 2, 'large': 1, 'ensemble': 1, 'cast': 1, 'follows': 2, 'story': 1, 'arcs': 1, 'course': 1, 'major': 2, 'arc': 2, 'concerns': 1, 'Iron': 1, 'Throne': 1, 'Seven': 2, 'Kingdoms': 2, 'web': 1, 'political': 1, 'conflicts': 1, 'noble': 1, 'families': 1, 'vying': 1, 'claim': 1, 'throne': 2, 'fighting': 1, 'independence': 1, 'sits': 1, '\\n\\n ': 1, 'second': 1, 'focuses': 1, 'descendant': 1, 'realm': 2, 'deposed': 1, 'ruling': 1, 'dynasty': 1, 'exiled': 1, 'plotting': 1, 'return': 1, 'reclaim': 1, 'Night': 1, 'Watch': 1, 'military': 1, 'order': 1, 'defending': 1, 'threats': 1, 'northern': 1, 'border': 1}\n"
     ]
    }
   ],
   "source": [
    "print(word_freq)"
   ]
  },
  {
   "cell_type": "code",
   "execution_count": 14,
   "metadata": {},
   "outputs": [
    {
     "name": "stdout",
     "output_type": "stream",
     "text": [
      "3\n"
     ]
    }
   ],
   "source": [
    "max_freq=max(word_freq.values())\n",
    "print(max_freq)"
   ]
  },
  {
   "cell_type": "code",
   "execution_count": 15,
   "metadata": {},
   "outputs": [
    {
     "data": {
      "text/plain": [
       "dict_keys(['Game', 'Thrones', 'American', 'fantasy', 'drama', 'television', 'series', 'created', 'David', 'Benioff', 'D.', 'B.', 'Weiss', 'HBO', 'adaptation', 'Song', 'Ice', 'Fire', 'novels', 'George', 'R.', 'Martin', 'premiered', 'United', 'States', 'April', '17', '2011', 'concluded', '19', '2019', '73', 'episodes', 'broadcast', 'seasons', '\\n\\n', 'Set', 'fictional', 'continents', 'Westeros', 'Essos', 'large', 'ensemble', 'cast', 'follows', 'story', 'arcs', 'course', 'major', 'arc', 'concerns', 'Iron', 'Throne', 'Seven', 'Kingdoms', 'web', 'political', 'conflicts', 'noble', 'families', 'vying', 'claim', 'throne', 'fighting', 'independence', 'sits', '\\n\\n ', 'second', 'focuses', 'descendant', 'realm', 'deposed', 'ruling', 'dynasty', 'exiled', 'plotting', 'return', 'reclaim', 'Night', 'Watch', 'military', 'order', 'defending', 'threats', 'northern', 'border'])"
      ]
     },
     "execution_count": 15,
     "metadata": {},
     "output_type": "execute_result"
    }
   ],
   "source": []
  },
  {
   "cell_type": "code",
   "execution_count": 16,
   "metadata": {},
   "outputs": [],
   "source": [
    "#normalized Frequency = Frequency of each word / Max frequency \n",
    "for word in word_freq.keys():\n",
    "     word_freq[word]=word_freq[word]/max_freq\n"
   ]
  },
  {
   "cell_type": "code",
   "execution_count": 17,
   "metadata": {},
   "outputs": [
    {
     "name": "stdout",
     "output_type": "stream",
     "text": [
      "{'Game': 1.0, 'Thrones': 1.0, 'American': 0.3333333333333333, 'fantasy': 0.6666666666666666, 'drama': 0.3333333333333333, 'television': 0.3333333333333333, 'series': 0.6666666666666666, 'created': 0.3333333333333333, 'David': 0.3333333333333333, 'Benioff': 0.3333333333333333, 'D.': 0.3333333333333333, 'B.': 0.3333333333333333, 'Weiss': 0.3333333333333333, 'HBO': 0.6666666666666666, 'adaptation': 0.3333333333333333, 'Song': 0.3333333333333333, 'Ice': 0.3333333333333333, 'Fire': 0.3333333333333333, 'novels': 0.3333333333333333, 'George': 0.3333333333333333, 'R.': 0.6666666666666666, 'Martin': 0.3333333333333333, 'premiered': 0.3333333333333333, 'United': 0.3333333333333333, 'States': 0.3333333333333333, 'April': 0.3333333333333333, '17': 0.3333333333333333, '2011': 0.3333333333333333, 'concluded': 0.3333333333333333, '19': 0.3333333333333333, '2019': 0.3333333333333333, '73': 0.3333333333333333, 'episodes': 0.3333333333333333, 'broadcast': 0.3333333333333333, 'seasons': 0.3333333333333333, '\\n\\n': 0.3333333333333333, 'Set': 0.3333333333333333, 'fictional': 0.3333333333333333, 'continents': 0.3333333333333333, 'Westeros': 0.6666666666666666, 'Essos': 0.6666666666666666, 'large': 0.3333333333333333, 'ensemble': 0.3333333333333333, 'cast': 0.3333333333333333, 'follows': 0.6666666666666666, 'story': 0.3333333333333333, 'arcs': 0.3333333333333333, 'course': 0.3333333333333333, 'major': 0.6666666666666666, 'arc': 0.6666666666666666, 'concerns': 0.3333333333333333, 'Iron': 0.3333333333333333, 'Throne': 0.3333333333333333, 'Seven': 0.6666666666666666, 'Kingdoms': 0.6666666666666666, 'web': 0.3333333333333333, 'political': 0.3333333333333333, 'conflicts': 0.3333333333333333, 'noble': 0.3333333333333333, 'families': 0.3333333333333333, 'vying': 0.3333333333333333, 'claim': 0.3333333333333333, 'throne': 0.6666666666666666, 'fighting': 0.3333333333333333, 'independence': 0.3333333333333333, 'sits': 0.3333333333333333, '\\n\\n ': 0.3333333333333333, 'second': 0.3333333333333333, 'focuses': 0.3333333333333333, 'descendant': 0.3333333333333333, 'realm': 0.6666666666666666, 'deposed': 0.3333333333333333, 'ruling': 0.3333333333333333, 'dynasty': 0.3333333333333333, 'exiled': 0.3333333333333333, 'plotting': 0.3333333333333333, 'return': 0.3333333333333333, 'reclaim': 0.3333333333333333, 'Night': 0.3333333333333333, 'Watch': 0.3333333333333333, 'military': 0.3333333333333333, 'order': 0.3333333333333333, 'defending': 0.3333333333333333, 'threats': 0.3333333333333333, 'northern': 0.3333333333333333, 'border': 0.3333333333333333}\n"
     ]
    }
   ],
   "source": [
    "print(word_freq)"
   ]
  },
  {
   "cell_type": "code",
   "execution_count": 20,
   "metadata": {},
   "outputs": [
    {
     "name": "stdout",
     "output_type": "stream",
     "text": [
      "[Game of Thrones is an American fantasy drama television series created by David Benioff and D. B. Weiss for HBO., It is an adaptation of A Song of Ice and Fire, a series of fantasy novels by George R. R. Martin, the first of which is A Game of Thrones., The show premiered on HBO in the United States on April 17, 2011, and concluded on May 19, 2019, with 73 episodes broadcast over eight seasons.\n",
      "\n",
      ", Set on the fictional continents of Westeros and Essos, Game of Thrones has a large ensemble cast and follows several story arcs throughout the course of the show., The first major arc concerns the Iron Throne of the Seven Kingdoms of Westeros through a web of political conflicts among the noble families either vying to claim the throne or fighting for independence from whoever sits on it.\n",
      "\n",
      " , The second major arc focuses on the last descendant of the realm's deposed ruling dynasty, who has been exiled to Essos and is plotting to return and reclaim the throne., The third follows the Night's Watch, a military order defending the realm against threats from beyond the Seven Kingdoms' northern border.]\n"
     ]
    }
   ],
   "source": [
    "# sentence tokenize  \n",
    "sent_tokens=[sent for sent in doc.sents]\n",
    "print(sent_tokens)"
   ]
  },
  {
   "cell_type": "code",
   "execution_count": 27,
   "metadata": {},
   "outputs": [],
   "source": [
    "# make dictionary for sentence in similar manner\n",
    "sent_score={}\n",
    "for sent in sent_tokens:  # picking each sentence from token \n",
    "  for word in sent:     # picking each ford from tokenized sentence \n",
    "    if word.text in word_freq.keys():  # check each word in sent if in word_freq dictionary  if word exist then \n",
    "      if sent not in sent_score.keys():  # check if sentence exist in sent_score dictionary if not exist then add word_freq word in sent_score\n",
    "            sent_score[sent]=word_freq[word.text]  # assign value \n",
    "      else:\n",
    "            sent_score[sent] +=word_freq[word.text]  # add the normalize frequency \n",
    "\n",
    "            # it check each word in sentence if word come again then it increases  its value and then go for next word and add the prev word in sentence and it add the overall frequency\n",
    "            #  \n",
    "            #In this way it calculate total frequency of each sentence\n"
   ]
  },
  {
   "cell_type": "code",
   "execution_count": 28,
   "metadata": {},
   "outputs": [
    {
     "data": {
      "text/plain": [
       "{Game of Thrones is an American fantasy drama television series created by David Benioff and D. B. Weiss for HBO.: 6.999999999999999,\n",
       " It is an adaptation of A Song of Ice and Fire, a series of fantasy novels by George R. R. Martin, the first of which is A Game of Thrones.: 7.0,\n",
       " The show premiered on HBO in the United States on April 17, 2011, and concluded on May 19, 2019, with 73 episodes broadcast over eight seasons.\n",
       " : 5.333333333333332,\n",
       " Set on the fictional continents of Westeros and Essos, Game of Thrones has a large ensemble cast and follows several story arcs throughout the course of the show.: 6.999999999999998,\n",
       " The first major arc concerns the Iron Throne of the Seven Kingdoms of Westeros through a web of political conflicts among the noble families either vying to claim the throne or fighting for independence from whoever sits on it.\n",
       " \n",
       "  : 8.666666666666664,\n",
       " The second major arc focuses on the last descendant of the realm's deposed ruling dynasty, who has been exiled to Essos and is plotting to return and reclaim the throne.: 6.666666666666666,\n",
       " The third follows the Night's Watch, a military order defending the realm against threats from beyond the Seven Kingdoms' northern border.: 5.333333333333332}"
      ]
     },
     "execution_count": 28,
     "metadata": {},
     "output_type": "execute_result"
    }
   ],
   "source": [
    "sent_score # total frequnecy of each sentence "
   ]
  },
  {
   "cell_type": "code",
   "execution_count": 29,
   "metadata": {},
   "outputs": [
    {
     "name": "stdout",
     "output_type": "stream",
     "text": [
      "2\n"
     ]
    }
   ],
   "source": [
    "select_len=int(len(sent_tokens)*0.3)  # 30% length of sent token \n",
    "print(select_len)"
   ]
  },
  {
   "cell_type": "code",
   "execution_count": 32,
   "metadata": {},
   "outputs": [],
   "source": [
    "# it brought select_len sentences from sent_scores and get the sent of highest freq from sent score\n",
    "summary=nlargest(select_len,sent_score,key=sent_score.get)"
   ]
  },
  {
   "cell_type": "code",
   "execution_count": 33,
   "metadata": {},
   "outputs": [
    {
     "data": {
      "text/plain": [
       "[The first major arc concerns the Iron Throne of the Seven Kingdoms of Westeros through a web of political conflicts among the noble families either vying to claim the throne or fighting for independence from whoever sits on it.\n",
       " \n",
       "  ,\n",
       " It is an adaptation of A Song of Ice and Fire, a series of fantasy novels by George R. R. Martin, the first of which is A Game of Thrones.]"
      ]
     },
     "execution_count": 33,
     "metadata": {},
     "output_type": "execute_result"
    }
   ],
   "source": [
    "# sentence with highest summary will be selected \n",
    "summary\n"
   ]
  },
  {
   "cell_type": "code",
   "execution_count": 34,
   "metadata": {},
   "outputs": [],
   "source": [
    "final_summary=[word.text for word in summary] # make list using word.text of each word and join each word by space \n",
    "summary=' '.join(final_summary)"
   ]
  },
  {
   "cell_type": "code",
   "execution_count": 36,
   "metadata": {},
   "outputs": [
    {
     "name": "stdout",
     "output_type": "stream",
     "text": [
      "Original Text is : \n",
      "Game of Thrones is an American fantasy drama television series created by David Benioff and D. B. Weiss for HBO. It is an adaptation of A Song of Ice and Fire, a series of fantasy novels by George R. R. Martin, the first of which is A Game of Thrones. The show premiered on HBO in the United States on April 17, 2011, and concluded on May 19, 2019, with 73 episodes broadcast over eight seasons.\n",
      "\n",
      "Set on the fictional continents of Westeros and Essos, Game of Thrones has a large ensemble cast and follows several story arcs throughout the course of the show. The first major arc concerns the Iron Throne of the Seven Kingdoms of Westeros through a web of political conflicts among the noble families either vying to claim the throne or fighting for independence from whoever sits on it.\n",
      "\n",
      " The second major arc focuses on the last descendant of the realm's deposed ruling dynasty, who has been exiled to Essos and is plotting to return and reclaim the throne. The third follows the Night's Watch, a military order defending the realm against threats from beyond the Seven Kingdoms' northern border.\n",
      "_________________________________________________________________________________________________\n",
      "summarized Text is :\n",
      "The first major arc concerns the Iron Throne of the Seven Kingdoms of Westeros through a web of political conflicts among the noble families either vying to claim the throne or fighting for independence from whoever sits on it.\n",
      "\n",
      "  It is an adaptation of A Song of Ice and Fire, a series of fantasy novels by George R. R. Martin, the first of which is A Game of Thrones.\n",
      "_________________________________________________________________________________________________\n"
     ]
    }
   ],
   "source": [
    "print(\"Original Text is : \" )\n",
    "print(text)\n",
    "print(\"_________________________________________________________________________________________________\")\n",
    "print(\"summarized Text is :\")\n",
    "print(summary)\n",
    "print(\"_________________________________________________________________________________________________\")\n"
   ]
  },
  {
   "cell_type": "code",
   "execution_count": 37,
   "metadata": {},
   "outputs": [
    {
     "name": "stdout",
     "output_type": "stream",
     "text": [
      "Length Of Original Text : 193\n",
      "Length Of Summarized Text : 70\n"
     ]
    }
   ],
   "source": [
    "print(\"Length Of Original Text :\", len(text.split(' ')) )\n",
    "print(\"Length Of Summarized Text :\", len(summary.split(' ')) )"
   ]
  },
  {
   "cell_type": "code",
   "execution_count": null,
   "metadata": {},
   "outputs": [],
   "source": []
  }
 ],
 "metadata": {
  "kernelspec": {
   "display_name": "Python 3",
   "language": "python",
   "name": "python3"
  },
  "language_info": {
   "codemirror_mode": {
    "name": "ipython",
    "version": 3
   },
   "file_extension": ".py",
   "mimetype": "text/x-python",
   "name": "python",
   "nbconvert_exporter": "python",
   "pygments_lexer": "ipython3",
   "version": "3.12.2"
  }
 },
 "nbformat": 4,
 "nbformat_minor": 2
}
